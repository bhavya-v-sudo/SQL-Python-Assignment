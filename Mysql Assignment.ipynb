{
 "cells": [
  {
   "cell_type": "markdown",
   "id": "93f0c96b",
   "metadata": {},
   "source": [
    "Q1. What is a database? Differentiate between SQL and NoSQL databases"
   ]
  },
  {
   "cell_type": "markdown",
   "id": "1518e4f7",
   "metadata": {},
   "source": [
    "A database is a collection of data that is organized, which is also called structured data. It can be accessed or stored in a computer system. It can be managed through a Database Management System (DBMS), a software used to manage data. Database refers to related data in a structured form.\n",
    "\n",
    "SQL\n",
    "1. RELATIONAL DATABASE MANAGEMENT SYSTEM (RDBMS)\n",
    "2. These databases have fixed or static or predefined schema\n",
    "3. These databases are not suited for hierarchical data storage.\n",
    "4. These databases are best suited for complex queries\n",
    "5. Vertically Scalable\n",
    "6. Follows ACID property\n",
    "7. Examples: MySQL, PostgreSQL, Oracle, MS-SQL Server, etc\n",
    "\n",
    "\n",
    "NOSQL\n",
    "1. Non-relational or distributed database system.\n",
    "2. They have a dynamic schema\n",
    "3. These databases are best suited for hierarchical data storage.\n",
    "4. These databases are not so good for complex queries\n",
    "5. Horizontally scalable\n",
    "6. Follows CAP(consistency, availability, partition tolerance)\n",
    "7. Examples: MongoDB, HBase, Neo4j, Cassandra, etc"
   ]
  },
  {
   "cell_type": "markdown",
   "id": "ac87ccb4",
   "metadata": {},
   "source": [
    "Q2. What is DDL? Explain why CREATE, DROP, ALTER, and TRUNCATE are used with an example."
   ]
  },
  {
   "cell_type": "markdown",
   "id": "56bd288f",
   "metadata": {},
   "source": [
    "DDL or Data Definition Language actually consists of the SQL commands that can be used to define the database schema.\n",
    "DDL is a set of SQL commands used to create, modify, and delete database structures but not data.\n",
    "\n",
    "CREATE-\n",
    "Create database or its objects (table, index, function, views, store procedure, and triggers)\n",
    "\n",
    "CREATE TABLE table_name (column1 data_type, column2 data_type, ...);\n",
    "\n",
    "DROP-\n",
    "Delete objects from the database\n",
    "\n",
    "DROP TABLE table_name;\n",
    "\n",
    "ALTER-\n",
    "Alter the structure of the database\n",
    "\n",
    "ALTER TABLE table_name ADD COLUMN column_name data_type;\n",
    "\n",
    "\n",
    "TRUNCATE-\n",
    "Remove all records from a table, including all spaces allocated for the records are removed.\n",
    "\n",
    "TRUNCATE TABLE table_name;\n"
   ]
  },
  {
   "cell_type": "markdown",
   "id": "b6510c6d",
   "metadata": {},
   "source": [
    "Q3. What is DML? Explain INSERT, UPDATE, and DELETE with an example."
   ]
  },
  {
   "cell_type": "markdown",
   "id": "99fbb75c",
   "metadata": {},
   "source": [
    "The SQL commands that deal with the manipulation of data present in the database belong to DML or Data Manipulation Language\n",
    "\n",
    "INSERT-\n",
    "Insert data into a table\n",
    "\n",
    "INSERT INTO table_name (column1, column2, ...) VALUES (value1, value2, ...);\n",
    "\n",
    "UPDATE-\n",
    "Update existing data within a table\n",
    "\n",
    "UPDATE table_name SET column1 = value1, column2 = value2 WHERE condition;\n",
    "\n",
    "DELETE-\n",
    "Delete records from a database table\n",
    "\n",
    "DELETE FROM table_name WHERE condition;"
   ]
  },
  {
   "cell_type": "markdown",
   "id": "9197f840",
   "metadata": {},
   "source": [
    "Q4. What is DQL? Explain SELECT with an example."
   ]
  },
  {
   "cell_type": "markdown",
   "id": "549ac899",
   "metadata": {},
   "source": [
    "The purpose of the DQL Command is to get some schema relation based on the query passed to it.\n",
    "\n",
    "SELECT-\n",
    "It is used to retrieve data from the database\n",
    "\n",
    "SELECT column1, column2, ...FROM table_name WHERE condition;"
   ]
  },
  {
   "cell_type": "markdown",
   "id": "6c4e9aef",
   "metadata": {},
   "source": [
    "Q5. Explain Primary Key and Foreign Key\n",
    "\n",
    "\n",
    "PRIMARY KEY-\n",
    "A primary key is used to ensure that data in the specific column is unique. A column cannot have NULL values.\n",
    "\n",
    "FOREIGN KEY -\n",
    "A foreign key is a column or group of columns in a relational database table that provides a link between data in two tables. It is a column (or columns) that references a column (most often the primary key) of another table."
   ]
  },
  {
   "cell_type": "markdown",
   "id": "a15858c5",
   "metadata": {},
   "source": [
    "Q6. Write a python code to connect MySQL to python. Explain the cursor() and execute() method."
   ]
  },
  {
   "cell_type": "markdown",
   "id": "7c61db32",
   "metadata": {},
   "source": [
    "PYTHON CODE - \n",
    "\n",
    "import mysql.connector\n",
    "mydb = mysql.connector.connect(\n",
    "\thost = \"localhost\",\n",
    "\tuser = \"abc\",\n",
    "\tpassword =\"password\"\n",
    ")\n",
    "\n",
    "print(mydb)\n",
    "\n",
    "mycursor = mydb.cursor()\n",
    "mycursor.execute(\"SHOW DATABASES\")\n",
    "\n",
    "for x in mycursor:\n",
    "\tprint(x)\n",
    "\n",
    "mydb.close()\n",
    "\n",
    "CURSOR-\n",
    "It is an object that is used to make the connection for executing SQL queries.\n",
    "\n",
    "EXECUTE-\n",
    "executes the given database operation (query or command)."
   ]
  },
  {
   "cell_type": "markdown",
   "id": "740bd50f",
   "metadata": {},
   "source": [
    "Q7. Give the order of execution of SQL clauses in an SQL query."
   ]
  },
  {
   "cell_type": "markdown",
   "id": "7f00ad14",
   "metadata": {},
   "source": [
    "1. FROM\n",
    "2. WHERE\n",
    "3. GROUP BY\n",
    "4. HAVING\n",
    "5. SELECT\n",
    "6. DISTINCT\n",
    "7. ORDER BY\n",
    "8. OFFSET/LIMIT"
   ]
  },
  {
   "cell_type": "code",
   "execution_count": null,
   "id": "822015ae",
   "metadata": {},
   "outputs": [],
   "source": []
  }
 ],
 "metadata": {
  "kernelspec": {
   "display_name": "Python 3 (ipykernel)",
   "language": "python",
   "name": "python3"
  },
  "language_info": {
   "codemirror_mode": {
    "name": "ipython",
    "version": 3
   },
   "file_extension": ".py",
   "mimetype": "text/x-python",
   "name": "python",
   "nbconvert_exporter": "python",
   "pygments_lexer": "ipython3",
   "version": "3.9.13"
  }
 },
 "nbformat": 4,
 "nbformat_minor": 5
}
